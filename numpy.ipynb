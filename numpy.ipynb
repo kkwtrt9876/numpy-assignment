{
  "nbformat": 4,
  "nbformat_minor": 0,
  "metadata": {
    "colab": {
      "provenance": []
    },
    "kernelspec": {
      "name": "python3",
      "display_name": "Python 3"
    },
    "language_info": {
      "name": "python"
    }
  },
  "cells": [
    {
      "cell_type": "markdown",
      "source": [
        "#Numpy assignment"
      ],
      "metadata": {
        "id": "NMBlXj-QlEIU"
      }
    },
    {
      "cell_type": "code",
      "execution_count": 1,
      "metadata": {
        "id": "yqk6iLIklB2z"
      },
      "outputs": [],
      "source": [
        "import numpy as np\n",
        "import pandas as pd"
      ]
    },
    {
      "cell_type": "markdown",
      "source": [
        "# 1. Create a NumPy array 'arr' of integers from 0 to 5 and print its data type.\n"
      ],
      "metadata": {
        "id": "ZOI3RRiUlNJf"
      }
    },
    {
      "cell_type": "code",
      "source": [
        "arr = np.arange(6)\n",
        "print(\"1. NumPy array 'arr' and its data type:\")\n",
        "print(arr)\n",
        "print(\"Data type:\", arr.dtype)\n",
        "print(\"\\n\")"
      ],
      "metadata": {
        "colab": {
          "base_uri": "https://localhost:8080/"
        },
        "id": "nzfAP6T-lMYA",
        "outputId": "789999fb-084a-4032-c03d-78653528cd54"
      },
      "execution_count": 2,
      "outputs": [
        {
          "output_type": "stream",
          "name": "stdout",
          "text": [
            "1. NumPy array 'arr' and its data type:\n",
            "[0 1 2 3 4 5]\n",
            "Data type: int64\n",
            "\n",
            "\n"
          ]
        }
      ]
    },
    {
      "cell_type": "markdown",
      "source": [
        "# 2. Given a NumPy array 'arr', check if its data type is float64.\n"
      ],
      "metadata": {
        "id": "OOpeja5BlWhT"
      }
    },
    {
      "cell_type": "code",
      "source": [
        "arr = np.array([1.5, 2.6, 3.7])\n",
        "print(\"2. Checking if the array data type is float64:\")\n",
        "print(arr.dtype == np.float64)\n",
        "print(\"\\n\")"
      ],
      "metadata": {
        "colab": {
          "base_uri": "https://localhost:8080/"
        },
        "id": "wPW5ta4jlU5i",
        "outputId": "e7b106ce-5432-4841-ad2c-d76ae7212220"
      },
      "execution_count": 3,
      "outputs": [
        {
          "output_type": "stream",
          "name": "stdout",
          "text": [
            "2. Checking if the array data type is float64:\n",
            "True\n",
            "\n",
            "\n"
          ]
        }
      ]
    },
    {
      "cell_type": "markdown",
      "source": [
        "# 3. Create a NumPy array 'arr' with a data type of complex128 containing three complex numbers.\n"
      ],
      "metadata": {
        "id": "FfScQdjmlcBc"
      }
    },
    {
      "cell_type": "code",
      "source": [
        "arr = np.array([1+2j, 3+4j, 5+6j], dtype=np.complex128)\n",
        "print(\"3. NumPy array with complex128 data type:\")\n",
        "print(arr)\n",
        "print(\"\\n\")"
      ],
      "metadata": {
        "colab": {
          "base_uri": "https://localhost:8080/"
        },
        "id": "ZZN9XU32lZ8K",
        "outputId": "1b28bf93-8350-4bf2-98d8-c266a884487f"
      },
      "execution_count": 4,
      "outputs": [
        {
          "output_type": "stream",
          "name": "stdout",
          "text": [
            "3. NumPy array with complex128 data type:\n",
            "[1.+2.j 3.+4.j 5.+6.j]\n",
            "\n",
            "\n"
          ]
        }
      ]
    },
    {
      "cell_type": "markdown",
      "source": [
        "# 4. Convert an existing NumPy array 'arr' of integers to float32 data type.\n"
      ],
      "metadata": {
        "id": "S-YMtdqwlhL0"
      }
    },
    {
      "cell_type": "code",
      "source": [
        "arr = np.array([1, 2, 3])\n",
        "arr_float32 = arr.astype(np.float32)\n",
        "print(\"4. Converted NumPy array to float32:\")\n",
        "print(arr_float32)\n",
        "print(\"Data type:\", arr_float32.dtype)"
      ],
      "metadata": {
        "colab": {
          "base_uri": "https://localhost:8080/"
        },
        "id": "H4oTec-IlfUH",
        "outputId": "d3f92a31-1a0c-49a1-b416-dc7919cca5d6"
      },
      "execution_count": 5,
      "outputs": [
        {
          "output_type": "stream",
          "name": "stdout",
          "text": [
            "4. Converted NumPy array to float32:\n",
            "[1. 2. 3.]\n",
            "Data type: float32\n"
          ]
        }
      ]
    },
    {
      "cell_type": "markdown",
      "source": [
        "# 5. Given a NumPy array 'arr' with float64 data type, convert it to float32 to reduce decimal precision.\n"
      ],
      "metadata": {
        "id": "LXH_1oHQllf5"
      }
    },
    {
      "cell_type": "code",
      "source": [
        "arr = np.array([1.1, 2.2, 3.3], dtype=np.float64)\n",
        "arr_float32 = arr.astype(np.float32)\n",
        "print(\"5. Converted float64 array to float32:\")\n",
        "print(arr_float32)\n",
        "print(\"Data type:\", arr_float32.dtype)"
      ],
      "metadata": {
        "colab": {
          "base_uri": "https://localhost:8080/"
        },
        "id": "-dhgLPoIlkt4",
        "outputId": "c656a52c-8607-4c8e-d38c-01bc5c2a2bcd"
      },
      "execution_count": 6,
      "outputs": [
        {
          "output_type": "stream",
          "name": "stdout",
          "text": [
            "5. Converted float64 array to float32:\n",
            "[1.1 2.2 3.3]\n",
            "Data type: float32\n"
          ]
        }
      ]
    },
    {
      "cell_type": "markdown",
      "source": [
        "# 6. Write a function array_attributes that takes a NumPy array as input and returns its shape, size, and data type.\n"
      ],
      "metadata": {
        "id": "KIm101DKlqfE"
      }
    },
    {
      "cell_type": "code",
      "source": [
        "def array_attributes(arr):\n",
        "    return arr.shape, arr.size, arr.dtype\n",
        "\n",
        "arr = np.array([1, 2, 3, 4, 5])\n",
        "print(\"6. Array attributes (shape, size, data type):\")\n",
        "print(array_attributes(arr))"
      ],
      "metadata": {
        "colab": {
          "base_uri": "https://localhost:8080/"
        },
        "id": "ctF8nWSMlprU",
        "outputId": "7184ed6f-6f40-4811-8220-9d48f6e964b6"
      },
      "execution_count": 8,
      "outputs": [
        {
          "output_type": "stream",
          "name": "stdout",
          "text": [
            "6. Array attributes (shape, size, data type):\n",
            "((5,), 5, dtype('int64'))\n"
          ]
        }
      ]
    },
    {
      "cell_type": "markdown",
      "source": [
        "# 7. Create a function array_dimension that takes a NumPy array as input and returns its dimensionality.\n"
      ],
      "metadata": {
        "id": "-eSarn9olxni"
      }
    },
    {
      "cell_type": "code",
      "source": [
        "def array_dimension(arr):\n",
        "    return arr.ndim\n",
        "\n",
        "arr = np.array([[1, 2, 3], [4, 5, 6]])\n",
        "print(\"7. Array dimensionality:\")\n",
        "print(array_dimension(arr))"
      ],
      "metadata": {
        "colab": {
          "base_uri": "https://localhost:8080/"
        },
        "id": "RLhJ7IF9ltfy",
        "outputId": "fb0f4b07-47da-4801-96b4-c5b019b02738"
      },
      "execution_count": 9,
      "outputs": [
        {
          "output_type": "stream",
          "name": "stdout",
          "text": [
            "7. Array dimensionality:\n",
            "2\n"
          ]
        }
      ]
    },
    {
      "cell_type": "markdown",
      "source": [
        "# 8. Design a function item_size_info that takes a NumPy array as input and returns the item size and the total size in bytes.\n"
      ],
      "metadata": {
        "id": "skLjB1cBl20p"
      }
    },
    {
      "cell_type": "code",
      "source": [
        "def item_size_info(arr):\n",
        "    return arr.itemsize, arr.nbytes\n",
        "\n",
        "arr = np.array([1, 2, 3])\n",
        "print(\"8. Item size and total size in bytes:\")\n",
        "print(item_size_info(arr))\n",
        "print(\"\\n\")"
      ],
      "metadata": {
        "colab": {
          "base_uri": "https://localhost:8080/"
        },
        "id": "nb1-FVOtl1AG",
        "outputId": "45cace0d-97f6-49a6-e925-1c5c6e6df0d0"
      },
      "execution_count": 10,
      "outputs": [
        {
          "output_type": "stream",
          "name": "stdout",
          "text": [
            "8. Item size and total size in bytes:\n",
            "(8, 24)\n",
            "\n",
            "\n"
          ]
        }
      ]
    },
    {
      "cell_type": "markdown",
      "source": [
        "# 9. Create a function array_strides that takes a NumPy array as input and returns the strides of the array.\n"
      ],
      "metadata": {
        "id": "9Gt-Q7xBl6Ep"
      }
    },
    {
      "cell_type": "code",
      "source": [
        "def array_strides(arr):\n",
        "    return arr.strides\n",
        "\n",
        "arr = np.array([[1, 2, 3], [4, 5, 6]])\n",
        "print(\"9. Array strides:\")\n",
        "print(array_strides(arr))"
      ],
      "metadata": {
        "colab": {
          "base_uri": "https://localhost:8080/"
        },
        "id": "csxvR6y6l4-0",
        "outputId": "d38fc599-ee20-448d-fcc9-3f5370a9e815"
      },
      "execution_count": 11,
      "outputs": [
        {
          "output_type": "stream",
          "name": "stdout",
          "text": [
            "9. Array strides:\n",
            "(24, 8)\n"
          ]
        }
      ]
    },
    {
      "cell_type": "markdown",
      "source": [
        "# 10. Design a function shape_stride_relationship that takes a NumPy array as input and returns the shape and strides of the array.\n"
      ],
      "metadata": {
        "id": "ta-rqhBWl98M"
      }
    },
    {
      "cell_type": "code",
      "source": [
        "def shape_stride_relationship(arr):\n",
        "    return arr.shape, arr.strides\n",
        "\n",
        "arr = np.array([[1, 2, 3], [4, 5, 6]])\n",
        "print(\"10. Shape and strides of the array:\")\n",
        "print(shape_stride_relationship(arr))"
      ],
      "metadata": {
        "colab": {
          "base_uri": "https://localhost:8080/"
        },
        "id": "s00rYWpbl84D",
        "outputId": "ad8264d5-a426-4626-f8e2-0063ccc9ce51"
      },
      "execution_count": 12,
      "outputs": [
        {
          "output_type": "stream",
          "name": "stdout",
          "text": [
            "10. Shape and strides of the array:\n",
            "((2, 3), (24, 8))\n"
          ]
        }
      ]
    },
    {
      "cell_type": "markdown",
      "source": [
        "# 11. Create a function create_zeros_array that takes an integer n as input and returns a NumPy array of zeros with n elements.\n"
      ],
      "metadata": {
        "id": "XFPN2WiYmDGG"
      }
    },
    {
      "cell_type": "code",
      "source": [
        "def create_zeros_array(n):\n",
        "    return np.zeros(n)\n",
        "\n",
        "print(\"11. Array of zeros with n elements:\")\n",
        "print(create_zeros_array(5))"
      ],
      "metadata": {
        "colab": {
          "base_uri": "https://localhost:8080/"
        },
        "id": "EAroxt5mmBdJ",
        "outputId": "86123471-5213-4db6-8c9e-4b2f8a38c0ed"
      },
      "execution_count": 13,
      "outputs": [
        {
          "output_type": "stream",
          "name": "stdout",
          "text": [
            "11. Array of zeros with n elements:\n",
            "[0. 0. 0. 0. 0.]\n"
          ]
        }
      ]
    },
    {
      "cell_type": "markdown",
      "source": [
        "# 12. Write a function create_ones_matrix that takes integers rows and cols as inputs and generates a 2D NumPy array filled with ones of size rows x cols.\n"
      ],
      "metadata": {
        "id": "MlQMX_UHmGXy"
      }
    },
    {
      "cell_type": "code",
      "source": [
        "def create_ones_matrix(rows, cols):\n",
        "    return np.ones((rows, cols))\n",
        "\n",
        "print(\"12. 2D array of ones:\")\n",
        "print(create_ones_matrix(3, 4))"
      ],
      "metadata": {
        "colab": {
          "base_uri": "https://localhost:8080/"
        },
        "id": "Mrtj_Dd5mFmQ",
        "outputId": "f18f0a19-bac6-4e48-c162-671b7cb81e41"
      },
      "execution_count": 14,
      "outputs": [
        {
          "output_type": "stream",
          "name": "stdout",
          "text": [
            "12. 2D array of ones:\n",
            "[[1. 1. 1. 1.]\n",
            " [1. 1. 1. 1.]\n",
            " [1. 1. 1. 1.]]\n"
          ]
        }
      ]
    },
    {
      "cell_type": "markdown",
      "source": [
        "# 13. Write a function generate_range_array that takes three integers start, stop, and step as arguments and creates a NumPy array with a range starting from start, ending at stop (exclusive), and with the specified step.\n"
      ],
      "metadata": {
        "id": "vvSyyI1pmK47"
      }
    },
    {
      "cell_type": "code",
      "source": [
        "def generate_range_array(start, stop, step):\n",
        "    return np.arange(start, stop, step)\n",
        "\n",
        "print(\"13. NumPy array with a range:\")\n",
        "print(generate_range_array(1, 10, 2))"
      ],
      "metadata": {
        "colab": {
          "base_uri": "https://localhost:8080/"
        },
        "id": "4t7JjF7emJO5",
        "outputId": "23254a5b-ec9d-4fcf-f672-e5f9769226f9"
      },
      "execution_count": 15,
      "outputs": [
        {
          "output_type": "stream",
          "name": "stdout",
          "text": [
            "13. NumPy array with a range:\n",
            "[1 3 5 7 9]\n"
          ]
        }
      ]
    },
    {
      "cell_type": "markdown",
      "source": [
        "# 14. Design a function generate_linear_space that takes two floats start, stop, and an integer num as arguments and generates a NumPy array with num equally spaced values between start and stop (inclusive).\n"
      ],
      "metadata": {
        "id": "lw0qytEamO3b"
      }
    },
    {
      "cell_type": "code",
      "source": [
        "def generate_linear_space(start, stop, num):\n",
        "    return np.linspace(start, stop, num)\n",
        "\n",
        "print(\"14. Linearly spaced values:\")\n",
        "print(generate_linear_space(0, 1, 5))"
      ],
      "metadata": {
        "colab": {
          "base_uri": "https://localhost:8080/"
        },
        "id": "_-dmaw4hmNDr",
        "outputId": "1a6417ff-b9d3-4a3c-9a2b-208b94e7372e"
      },
      "execution_count": 16,
      "outputs": [
        {
          "output_type": "stream",
          "name": "stdout",
          "text": [
            "14. Linearly spaced values:\n",
            "[0.   0.25 0.5  0.75 1.  ]\n"
          ]
        }
      ]
    },
    {
      "cell_type": "markdown",
      "source": [
        "# 15. Create a function create_identity_matrix that takes an integer n as input and generates a square identity matrix of size n x n using numpy.eye.\n"
      ],
      "metadata": {
        "id": "cKna62OdmSaO"
      }
    },
    {
      "cell_type": "code",
      "source": [
        "def create_identity_matrix(n):\n",
        "    return np.eye(n)\n",
        "\n",
        "print(\"15. Identity matrix of size n x n:\")\n",
        "print(create_identity_matrix(4))"
      ],
      "metadata": {
        "colab": {
          "base_uri": "https://localhost:8080/"
        },
        "id": "IqQxAO_tmQxn",
        "outputId": "241232b9-f677-4164-d6e1-3b346a4622f6"
      },
      "execution_count": 17,
      "outputs": [
        {
          "output_type": "stream",
          "name": "stdout",
          "text": [
            "15. Identity matrix of size n x n:\n",
            "[[1. 0. 0. 0.]\n",
            " [0. 1. 0. 0.]\n",
            " [0. 0. 1. 0.]\n",
            " [0. 0. 0. 1.]]\n"
          ]
        }
      ]
    },
    {
      "cell_type": "markdown",
      "source": [
        "# 16. Write a function that takes a Python list and converts it into a NumPy array.\n"
      ],
      "metadata": {
        "id": "m4gAlMR-mVns"
      }
    },
    {
      "cell_type": "code",
      "source": [
        "def list_to_numpy_array(lst):\n",
        "    return np.array(lst)\n",
        "\n",
        "print(\"16. Converted Python list to NumPy array:\")\n",
        "print(list_to_numpy_array([1, 2, 3, 4, 5]))"
      ],
      "metadata": {
        "colab": {
          "base_uri": "https://localhost:8080/"
        },
        "id": "8cnwgIeFmUGL",
        "outputId": "1b138a89-bec4-4abf-80b9-a6510fecc5d6"
      },
      "execution_count": 18,
      "outputs": [
        {
          "output_type": "stream",
          "name": "stdout",
          "text": [
            "16. Converted Python list to NumPy array:\n",
            "[1 2 3 4 5]\n"
          ]
        }
      ]
    },
    {
      "cell_type": "markdown",
      "source": [
        "# 17. Create a NumPy array and demonstrate the use of numpy.view to create a new array object with the same data.\n"
      ],
      "metadata": {
        "id": "T6879mB5mY_4"
      }
    },
    {
      "cell_type": "code",
      "source": [
        "arr = np.array([1, 2, 3, 4, 5])\n",
        "arr_view = arr.view()\n",
        "print(\"17. Original array and its view:\")\n",
        "print(\"Original array:\", arr)\n",
        "print(\"View:\", arr_view)"
      ],
      "metadata": {
        "colab": {
          "base_uri": "https://localhost:8080/"
        },
        "id": "s5LEpSdAmXZ6",
        "outputId": "e984c34c-5585-4168-9e12-5bfce504d6de"
      },
      "execution_count": 19,
      "outputs": [
        {
          "output_type": "stream",
          "name": "stdout",
          "text": [
            "17. Original array and its view:\n",
            "Original array: [1 2 3 4 5]\n",
            "View: [1 2 3 4 5]\n"
          ]
        }
      ]
    },
    {
      "cell_type": "markdown",
      "source": [
        "# 18. Write a function that takes two NumPy arrays and concatenates them along a specified axis.\n"
      ],
      "metadata": {
        "id": "6sIcdZZUmcLE"
      }
    },
    {
      "cell_type": "code",
      "source": [
        "def concatenate_arrays(arr1, arr2, axis=0):\n",
        "    return np.concatenate((arr1, arr2), axis=axis)\n",
        "\n",
        "arr1 = np.array([[1, 2], [3, 4]])\n",
        "arr2 = np.array([[5, 6], [7, 8]])\n",
        "print(\"18. Concatenated arrays:\")\n",
        "print(concatenate_arrays(arr1, arr2, axis=0))"
      ],
      "metadata": {
        "colab": {
          "base_uri": "https://localhost:8080/"
        },
        "id": "6W_KAKckmao_",
        "outputId": "a7a55fb6-5ef1-4c8a-9645-fef953f6cf65"
      },
      "execution_count": 20,
      "outputs": [
        {
          "output_type": "stream",
          "name": "stdout",
          "text": [
            "18. Concatenated arrays:\n",
            "[[1 2]\n",
            " [3 4]\n",
            " [5 6]\n",
            " [7 8]]\n"
          ]
        }
      ]
    },
    {
      "cell_type": "markdown",
      "source": [
        "# 19. Create two NumPy arrays with different shapes and concatenate them horizontally using numpy.concatenate.\n"
      ],
      "metadata": {
        "id": "GJ5VWMg9mfmp"
      }
    },
    {
      "cell_type": "code",
      "source": [
        "arr1 = np.array([[1, 2, 3], [4, 5, 6]])  # Changed arr1 to have 2 rows\n",
        "arr2 = np.array([[7, 8, 9], [10, 11, 12]])\n",
        "\n",
        "print(\"19. Horizontally concatenated arrays (after modifying arrays):\")\n",
        "print(np.concatenate((arr1, arr2), axis=1))\n"
      ],
      "metadata": {
        "colab": {
          "base_uri": "https://localhost:8080/"
        },
        "id": "fA6jT_FEmeAJ",
        "outputId": "d53d729c-8846-41f0-c217-0b143e35b290"
      },
      "execution_count": 22,
      "outputs": [
        {
          "output_type": "stream",
          "name": "stdout",
          "text": [
            "19. Horizontally concatenated arrays (after modifying arrays):\n",
            "[[ 1  2  3  7  8  9]\n",
            " [ 4  5  6 10 11 12]]\n"
          ]
        }
      ]
    },
    {
      "cell_type": "markdown",
      "source": [
        "# 20. Write a function that vertically stacks multiple NumPy arrays given as a list.\n"
      ],
      "metadata": {
        "id": "o2FMHTiOmyoP"
      }
    },
    {
      "cell_type": "code",
      "source": [
        "def vertical_stack(arr_list):\n",
        "    return np.vstack(arr_list)\n",
        "\n",
        "arr_list = [np.array([1, 2, 3]), np.array([4, 5, 6])]\n",
        "print(\"20. Vertically stacked arrays:\")\n",
        "print(vertical_stack(arr_list))"
      ],
      "metadata": {
        "colab": {
          "base_uri": "https://localhost:8080/"
        },
        "id": "ucZwKVbpmhrU",
        "outputId": "40d73749-a7a9-4ea6-ca6f-5a813b294c41"
      },
      "execution_count": 23,
      "outputs": [
        {
          "output_type": "stream",
          "name": "stdout",
          "text": [
            "20. Vertically stacked arrays:\n",
            "[[1 2 3]\n",
            " [4 5 6]]\n"
          ]
        }
      ]
    },
    {
      "cell_type": "markdown",
      "source": [
        "# 21. Write a Python function using NumPy to create an array of integers within a specified range (inclusive) with a given step size.\n"
      ],
      "metadata": {
        "id": "UfxdaNehm4QV"
      }
    },
    {
      "cell_type": "code",
      "source": [
        "def create_integer_range(start, stop, step):\n",
        "    return np.arange(start, stop + 1, step)\n",
        "\n",
        "print(\"21. Integer array within a specified range:\")\n",
        "print(create_integer_range(1, 10, 2))"
      ],
      "metadata": {
        "colab": {
          "base_uri": "https://localhost:8080/"
        },
        "id": "dPpsbYsAm3L9",
        "outputId": "0db3d763-182a-4e47-b9f7-c657797542e7"
      },
      "execution_count": 24,
      "outputs": [
        {
          "output_type": "stream",
          "name": "stdout",
          "text": [
            "21. Integer array within a specified range:\n",
            "[1 3 5 7 9]\n"
          ]
        }
      ]
    },
    {
      "cell_type": "markdown",
      "source": [
        "# 22. Write a Python function using NumPy to generate an array of 10 equally spaced values between 0 and 1 (inclusive).\n"
      ],
      "metadata": {
        "id": "oCEWQ_COm8YG"
      }
    },
    {
      "cell_type": "code",
      "source": [
        "def generate_spaced_values():\n",
        "    return np.linspace(0, 1, 10)\n",
        "\n",
        "print(\"22. Equally spaced values between 0 and 1:\")\n",
        "print(generate_spaced_values())"
      ],
      "metadata": {
        "colab": {
          "base_uri": "https://localhost:8080/"
        },
        "id": "sIDUcYsHm7BB",
        "outputId": "bc5fdaf9-b945-4389-f898-0cdb5d37b9e6"
      },
      "execution_count": 25,
      "outputs": [
        {
          "output_type": "stream",
          "name": "stdout",
          "text": [
            "22. Equally spaced values between 0 and 1:\n",
            "[0.         0.11111111 0.22222222 0.33333333 0.44444444 0.55555556\n",
            " 0.66666667 0.77777778 0.88888889 1.        ]\n"
          ]
        }
      ]
    },
    {
      "cell_type": "markdown",
      "source": [
        "# 23. Write a Python function using NumPy to create an array of 5 logarithmically spaced values between 1 and 1000 (inclusive).\n"
      ],
      "metadata": {
        "id": "-SdOclHKm_WE"
      }
    },
    {
      "cell_type": "code",
      "source": [
        "def generate_logarithmic_space():\n",
        "    return np.logspace(0, 3, 5)\n",
        "\n",
        "print(\"23. Logarithmically spaced values:\")\n",
        "print(generate_logarithmic_space())"
      ],
      "metadata": {
        "colab": {
          "base_uri": "https://localhost:8080/"
        },
        "id": "iOg3YMRlm97m",
        "outputId": "0a4d48fa-c699-463e-fccf-de5e9ea009f9"
      },
      "execution_count": 26,
      "outputs": [
        {
          "output_type": "stream",
          "name": "stdout",
          "text": [
            "23. Logarithmically spaced values:\n",
            "[   1.            5.62341325   31.6227766   177.827941   1000.        ]\n"
          ]
        }
      ]
    },
    {
      "cell_type": "markdown",
      "source": [
        "# 24. Create a Pandas DataFrame using a NumPy array that contains 5 rows and 3 columns, where the values are random integers between 1 and 100.\n"
      ],
      "metadata": {
        "id": "MkA-CE5jnCea"
      }
    },
    {
      "cell_type": "code",
      "source": [
        "np.random.seed(0)\n",
        "arr = np.random.randint(1, 101, size=(5, 3))\n",
        "df = pd.DataFrame(arr, columns=['A', 'B', 'C'])\n",
        "print(\"24. Pandas DataFrame with random integers:\")\n",
        "print(df)"
      ],
      "metadata": {
        "colab": {
          "base_uri": "https://localhost:8080/"
        },
        "id": "qmNHzXe6nA83",
        "outputId": "b57b9917-e2ea-4d49-c078-d9152c5b3887"
      },
      "execution_count": 27,
      "outputs": [
        {
          "output_type": "stream",
          "name": "stdout",
          "text": [
            "24. Pandas DataFrame with random integers:\n",
            "    A   B   C\n",
            "0  45  48  65\n",
            "1  68  68  10\n",
            "2  84  22  37\n",
            "3  88  71  89\n",
            "4  89  13  59\n"
          ]
        }
      ]
    },
    {
      "cell_type": "markdown",
      "source": [
        "# 25. Write a function that takes a Pandas DataFrame and replaces all negative values in a specific column with zeros. Use NumPy operations within the Pandas DataFrame.\n"
      ],
      "metadata": {
        "id": "A_JLB314nFxb"
      }
    },
    {
      "cell_type": "code",
      "source": [
        "def replace_negatives(df, column):\n",
        "    df[column] = np.where(df[column] < 0, 0, df[column])\n",
        "    return df\n",
        "\n",
        "# Sample DataFrame with negative values\n",
        "df = pd.DataFrame({'A': [1, -2, 3], 'B': [-1, -5, 6], 'C': [7, 8, 9]})\n",
        "print(\"25. DataFrame after replacing negative values:\")\n",
        "print(replace_negatives(df, 'B'))"
      ],
      "metadata": {
        "colab": {
          "base_uri": "https://localhost:8080/"
        },
        "id": "k-hmAjmXnEB_",
        "outputId": "5b8bcf1c-c584-4b90-8de3-af9dfe25ad8f"
      },
      "execution_count": 28,
      "outputs": [
        {
          "output_type": "stream",
          "name": "stdout",
          "text": [
            "25. DataFrame after replacing negative values:\n",
            "   A  B  C\n",
            "0  1  0  7\n",
            "1 -2  0  8\n",
            "2  3  6  9\n"
          ]
        }
      ]
    },
    {
      "cell_type": "markdown",
      "source": [
        "# 26. Access the 3rd element from the given NumPy array.\n"
      ],
      "metadata": {
        "id": "4MXAnIs7nLDw"
      }
    },
    {
      "cell_type": "code",
      "source": [
        "arr = np.array([10, 20, 30, 40, 50])\n",
        "print(\"26. 3rd element in the array:\")\n",
        "print(arr[2])"
      ],
      "metadata": {
        "colab": {
          "base_uri": "https://localhost:8080/"
        },
        "id": "k6Aw06B5nJQv",
        "outputId": "a62985be-92e7-4f29-a8b0-5b2f08e627c1"
      },
      "execution_count": 29,
      "outputs": [
        {
          "output_type": "stream",
          "name": "stdout",
          "text": [
            "26. 3rd element in the array:\n",
            "30\n"
          ]
        }
      ]
    },
    {
      "cell_type": "markdown",
      "source": [
        "# 27. Retrieve the element at index (1, 2) from the 2D NumPy array.\n"
      ],
      "metadata": {
        "id": "77UvViFJnOSp"
      }
    },
    {
      "cell_type": "code",
      "source": [
        "arr_2d = np.array([[1, 2, 3], [4, 5, 6], [7, 8, 9]])\n",
        "print(\"27. Element at index (1, 2):\")\n",
        "print(arr_2d[1, 2])"
      ],
      "metadata": {
        "colab": {
          "base_uri": "https://localhost:8080/"
        },
        "id": "d7N4_hpynM43",
        "outputId": "b5339340-db88-43ce-e52d-9ee2e1353a12"
      },
      "execution_count": 30,
      "outputs": [
        {
          "output_type": "stream",
          "name": "stdout",
          "text": [
            "27. Element at index (1, 2):\n",
            "6\n"
          ]
        }
      ]
    },
    {
      "cell_type": "markdown",
      "source": [
        "# 28. Using boolean indexing, extract elements greater than 5 from the given NumPy array.\n"
      ],
      "metadata": {
        "id": "OoNGQsf8nRqa"
      }
    },
    {
      "cell_type": "code",
      "source": [
        "arr = np.array([3, 8, 2, 10, 5, 7])\n",
        "print(\"28. Elements greater than 5:\")\n",
        "print(arr[arr > 5])"
      ],
      "metadata": {
        "colab": {
          "base_uri": "https://localhost:8080/"
        },
        "id": "ZDBjAD8SnP77",
        "outputId": "0029dc4f-c74a-4e29-d95f-433f804f3e73"
      },
      "execution_count": 31,
      "outputs": [
        {
          "output_type": "stream",
          "name": "stdout",
          "text": [
            "28. Elements greater than 5:\n",
            "[ 8 10  7]\n"
          ]
        }
      ]
    },
    {
      "cell_type": "markdown",
      "source": [
        "# 29. Perform basic slicing to extract elements from index 2 to 5 (inclusive) from the given NumPy array.\n"
      ],
      "metadata": {
        "id": "CWd7AM_mnUxR"
      }
    },
    {
      "cell_type": "code",
      "source": [
        "arr = np.array([1, 2, 3, 4, 5, 6, 7, 8, 9])\n",
        "print(\"29. Sliced elements from index 2 to 5:\")\n",
        "print(arr[2:6])"
      ],
      "metadata": {
        "colab": {
          "base_uri": "https://localhost:8080/"
        },
        "id": "wj-hustinTWJ",
        "outputId": "608805c6-e860-4d89-8ea5-df8e8ddb3378"
      },
      "execution_count": 32,
      "outputs": [
        {
          "output_type": "stream",
          "name": "stdout",
          "text": [
            "29. Sliced elements from index 2 to 5:\n",
            "[3 4 5 6]\n"
          ]
        }
      ]
    },
    {
      "cell_type": "markdown",
      "source": [
        "# 30. Slice the 2D NumPy array to extract the sub-array [[2, 3], [5, 6]] from the given array.\n"
      ],
      "metadata": {
        "id": "UJhIubgsnYK1"
      }
    },
    {
      "cell_type": "code",
      "source": [
        "arr_2d = np.array([[1, 2, 3], [4, 5, 6], [7, 8, 9]])\n",
        "print(\"30. Extracted sub-array:\")\n",
        "print(arr_2d[0:2, 1:3])"
      ],
      "metadata": {
        "colab": {
          "base_uri": "https://localhost:8080/"
        },
        "id": "dXdi7aJSnWvo",
        "outputId": "6dfea26a-59ab-4673-dc8e-3c111f5a8d31"
      },
      "execution_count": 33,
      "outputs": [
        {
          "output_type": "stream",
          "name": "stdout",
          "text": [
            "30. Extracted sub-array:\n",
            "[[2 3]\n",
            " [5 6]]\n"
          ]
        }
      ]
    },
    {
      "cell_type": "markdown",
      "source": [
        "# 31. Write a NumPy function to extract elements in specific order from a given 2D array based on indices provided in another array.\n"
      ],
      "metadata": {
        "id": "MLsI_1Z1nbFQ"
      }
    },
    {
      "cell_type": "code",
      "source": [
        "def extract_elements_by_indices(arr, row_indices, col_indices):\n",
        "    return arr[row_indices, col_indices]\n",
        "\n",
        "arr = np.array([[1, 2, 3], [4, 5, 6], [7, 8, 9]])\n",
        "row_indices = np.array([0, 1, 2])\n",
        "col_indices = np.array([2, 1, 0])\n",
        "print(\"31. Extracted elements in specific order:\")\n",
        "print(extract_elements_by_indices(arr, row_indices, col_indices))"
      ],
      "metadata": {
        "colab": {
          "base_uri": "https://localhost:8080/"
        },
        "id": "oT0OQs42nZqg",
        "outputId": "1d0ca32a-d7d0-43e0-96a5-ecf0c6cc51e0"
      },
      "execution_count": 34,
      "outputs": [
        {
          "output_type": "stream",
          "name": "stdout",
          "text": [
            "31. Extracted elements in specific order:\n",
            "[3 5 7]\n"
          ]
        }
      ]
    },
    {
      "cell_type": "markdown",
      "source": [
        "# 32. Create a NumPy function that filters elements greater than a threshold from a given 1D array using boolean indexing.\n"
      ],
      "metadata": {
        "id": "AY3Dl3FCnegV"
      }
    },
    {
      "cell_type": "code",
      "source": [
        "def filter_elements_by_threshold(arr, threshold):\n",
        "    return arr[arr > threshold]\n",
        "\n",
        "arr = np.array([1, 4, 7, 10])\n",
        "print(\"32. Filtered elements greater than threshold:\")\n",
        "print(filter_elements_by_threshold(arr, 5))"
      ],
      "metadata": {
        "colab": {
          "base_uri": "https://localhost:8080/"
        },
        "id": "t2ugz_nqndQB",
        "outputId": "a2927e07-aac4-4e13-fb7f-9f3c605cdb92"
      },
      "execution_count": 35,
      "outputs": [
        {
          "output_type": "stream",
          "name": "stdout",
          "text": [
            "32. Filtered elements greater than threshold:\n",
            "[ 7 10]\n"
          ]
        }
      ]
    },
    {
      "cell_type": "markdown",
      "source": [
        "# 33. Develop a NumPy function that extracts specific elements from a 3D array using indices provided in three separate arrays for each dimension.\n"
      ],
      "metadata": {
        "id": "L70O-D5UnjL2"
      }
    },
    {
      "cell_type": "code",
      "source": [
        "def extract_from_3d_array(arr, x_indices, y_indices, z_indices):\n",
        "    return arr[x_indices, y_indices, z_indices]\n",
        "\n",
        "arr_3d = np.random.randint(1, 10, size=(3, 3, 3))\n",
        "x_indices = np.array([0, 1, 2])\n",
        "y_indices = np.array([1, 0, 2])\n",
        "z_indices = np.array([2, 1, 0])\n",
        "print(\"33. Extracted elements from 3D array:\")\n",
        "print(extract_from_3d_array(arr_3d, x_indices, y_indices, z_indices))"
      ],
      "metadata": {
        "colab": {
          "base_uri": "https://localhost:8080/"
        },
        "id": "f0FLXvCYnhxO",
        "outputId": "bf9f08fb-755e-4802-afee-960d276a8b97"
      },
      "execution_count": 36,
      "outputs": [
        {
          "output_type": "stream",
          "name": "stdout",
          "text": [
            "33. Extracted elements from 3D array:\n",
            "[2 1 1]\n"
          ]
        }
      ]
    },
    {
      "cell_type": "markdown",
      "source": [
        "# 34. Write a NumPy function that returns elements from an array where both two conditions are satisfied using boolean indexing.\n"
      ],
      "metadata": {
        "id": "T0FQXpqmnnoT"
      }
    },
    {
      "cell_type": "code",
      "source": [
        "def elements_meeting_conditions(arr, condition1, condition2):\n",
        "    return arr[np.logical_and(condition1, condition2)]\n",
        "\n",
        "arr = np.array([10, 15, 20, 25, 30])\n",
        "print(\"34. Elements meeting both conditions:\")\n",
        "print(elements_meeting_conditions(arr, arr > 10, arr < 30))"
      ],
      "metadata": {
        "colab": {
          "base_uri": "https://localhost:8080/"
        },
        "id": "h2iwII_lnlVV",
        "outputId": "55f5c8e6-4993-45ac-f25f-936eca829673"
      },
      "execution_count": 37,
      "outputs": [
        {
          "output_type": "stream",
          "name": "stdout",
          "text": [
            "34. Elements meeting both conditions:\n",
            "[15 20 25]\n"
          ]
        }
      ]
    },
    {
      "cell_type": "markdown",
      "source": [
        "# 35. Create a NumPy function that extracts elements from a 2D array using row and column indices provided in separate arrays.\n"
      ],
      "metadata": {
        "id": "0CTLyeOgnqZo"
      }
    },
    {
      "cell_type": "code",
      "source": [
        "def extract_elements_by_row_col(arr, row_indices, col_indices):\n",
        "    return arr[row_indices, col_indices]\n",
        "\n",
        "arr_2d = np.array([[1, 2, 3], [4, 5, 6], [7, 8, 9]])\n",
        "row_indices = np.array([0, 1])\n",
        "col_indices = np.array([2, 1])\n",
        "print(\"35. Extracted elements using row and column indices:\")\n",
        "print(extract_elements_by_row_col(arr_2d, row_indices, col_indices))"
      ],
      "metadata": {
        "colab": {
          "base_uri": "https://localhost:8080/"
        },
        "id": "8swpF19-npSo",
        "outputId": "014e7072-339d-4d75-ecda-01ceabf35dfb"
      },
      "execution_count": 38,
      "outputs": [
        {
          "output_type": "stream",
          "name": "stdout",
          "text": [
            "35. Extracted elements using row and column indices:\n",
            "[3 5]\n"
          ]
        }
      ]
    },
    {
      "cell_type": "markdown",
      "source": [
        "# 36. Given an array arr of shape (3, 3), add a scalar value of 5 to each element using NumPy broadcasting.\n"
      ],
      "metadata": {
        "id": "-MhDaegMnuuC"
      }
    },
    {
      "cell_type": "code",
      "source": [
        "arr = np.array([[1, 2, 3], [4, 5, 6], [7, 8, 9]])\n",
        "arr_broadcasted = arr + 5\n",
        "print(\"36. Array after adding scalar value of 5:\")\n",
        "print(arr_broadcasted)"
      ],
      "metadata": {
        "colab": {
          "base_uri": "https://localhost:8080/"
        },
        "id": "cA8NnV1CntP9",
        "outputId": "c00fadad-0cc5-4ab4-9091-bd2d665b2c3b"
      },
      "execution_count": 39,
      "outputs": [
        {
          "output_type": "stream",
          "name": "stdout",
          "text": [
            "36. Array after adding scalar value of 5:\n",
            "[[ 6  7  8]\n",
            " [ 9 10 11]\n",
            " [12 13 14]]\n"
          ]
        }
      ]
    },
    {
      "cell_type": "markdown",
      "source": [
        "# 37. Consider two arrays arr1 of shape (1, 3) and arr2 of shape (3, 4). Multiply each row of arr2 by the corresponding element in arr1 using NumPy broadcasting.\n"
      ],
      "metadata": {
        "id": "WmyqLIGYnxbg"
      }
    },
    {
      "cell_type": "code",
      "source": [
        "arr1 = np.array([[2, 3, 4]])\n",
        "arr2 = np.array([[1, 1, 1, 1], [2, 2, 2, 2], [3, 3, 3, 3]])\n",
        "arr_broadcasted = arr2 * arr1.T\n",
        "print(\"37. Result after broadcasting multiplication:\")\n",
        "print(arr_broadcasted)"
      ],
      "metadata": {
        "colab": {
          "base_uri": "https://localhost:8080/"
        },
        "id": "nM4RanXPnwFw",
        "outputId": "9dda27d9-1dee-4288-f25f-e84febad06d4"
      },
      "execution_count": 40,
      "outputs": [
        {
          "output_type": "stream",
          "name": "stdout",
          "text": [
            "37. Result after broadcasting multiplication:\n",
            "[[ 2  2  2  2]\n",
            " [ 6  6  6  6]\n",
            " [12 12 12 12]]\n"
          ]
        }
      ]
    },
    {
      "cell_type": "markdown",
      "source": [
        "# 38. Given a 1D array arr1 of shape (1, 4) and a 2D array arr2 of shape (4, 3), add arr1 to each row of arr2 using NumPy broadcasting.\n"
      ],
      "metadata": {
        "id": "YxpICtvkn0mF"
      }
    },
    {
      "cell_type": "code",
      "source": [
        "arr1 = np.array([[1, 2, 3, 4]])\n",
        "arr2 = np.array([[10, 20, 30], [40, 50, 60], [70, 80, 90], [100, 110, 120]])\n",
        "arr_broadcasted = arr1.T + arr2\n",
        "print(\"38. Result after broadcasting addition:\")\n",
        "print(arr_broadcasted)"
      ],
      "metadata": {
        "colab": {
          "base_uri": "https://localhost:8080/"
        },
        "id": "UVLg2qNooFuQ",
        "outputId": "cec6fcef-32fa-40f6-9151-44fe647ef98c"
      },
      "execution_count": 43,
      "outputs": [
        {
          "output_type": "stream",
          "name": "stdout",
          "text": [
            "38. Result after broadcasting addition:\n",
            "[[ 11  21  31]\n",
            " [ 42  52  62]\n",
            " [ 73  83  93]\n",
            " [104 114 124]]\n"
          ]
        }
      ]
    },
    {
      "cell_type": "markdown",
      "source": [
        "# 39. Consider two arrays arr1 of shape (3, 1) and arr2 of shape (1, 3). Add these arrays using NumPy broadcasting.\n"
      ],
      "metadata": {
        "id": "mbGZdVj3n4px"
      }
    },
    {
      "cell_type": "code",
      "source": [
        "arr1 = np.array([[1], [2], [3]])\n",
        "arr2 = np.array([[4, 5, 6]])\n",
        "arr_broadcasted = arr1 + arr2\n",
        "print(\"39. Result after broadcasting addition:\")\n",
        "print(arr_broadcasted)"
      ],
      "metadata": {
        "colab": {
          "base_uri": "https://localhost:8080/"
        },
        "id": "P8KnCj6On3Mj",
        "outputId": "16f0db46-7d03-451a-d698-36c56043850c"
      },
      "execution_count": 44,
      "outputs": [
        {
          "output_type": "stream",
          "name": "stdout",
          "text": [
            "39. Result after broadcasting addition:\n",
            "[[5 6 7]\n",
            " [6 7 8]\n",
            " [7 8 9]]\n"
          ]
        }
      ]
    },
    {
      "cell_type": "markdown",
      "source": [
        "# 40. Given arrays arr1 of shape (2, 3) and arr2 of shape (2, 2), perform multiplication using NumPy broadcasting. Handle the shape incompatibility.\n"
      ],
      "metadata": {
        "id": "4ED9E2bUoRd2"
      }
    },
    {
      "cell_type": "code",
      "source": [
        "arr1 = np.array([[1, 2, 3], [4, 5, 6]])\n",
        "arr2 = np.array([[7, 8], [9, 10]])\n",
        "try:\n",
        "    arr_broadcasted = arr1[:, :2] * arr2\n",
        "    print(\"40. Result after broadcasting multiplication:\")\n",
        "    print(arr_broadcasted)\n",
        "except ValueError as e:\n",
        "    print(\"Error:\", e)"
      ],
      "metadata": {
        "colab": {
          "base_uri": "https://localhost:8080/"
        },
        "id": "YQ1Pv1DzoP7Y",
        "outputId": "1860fff5-69aa-4292-abba-434d8ec91d24"
      },
      "execution_count": 45,
      "outputs": [
        {
          "output_type": "stream",
          "name": "stdout",
          "text": [
            "40. Result after broadcasting multiplication:\n",
            "[[ 7 16]\n",
            " [36 50]]\n"
          ]
        }
      ]
    },
    {
      "cell_type": "markdown",
      "source": [
        "# 41. Calculate column-wise mean for the given array:\n"
      ],
      "metadata": {
        "id": "vbE1Xyk4oV9J"
      }
    },
    {
      "cell_type": "code",
      "source": [
        "arr = np.array([[1, 2, 3], [4, 5, 6]])\n",
        "col_mean = np.mean(arr, axis=0)\n",
        "print(\"41. Column-wise mean:\")\n",
        "print(col_mean)"
      ],
      "metadata": {
        "colab": {
          "base_uri": "https://localhost:8080/"
        },
        "id": "XXz-dbb0oT7_",
        "outputId": "3e095f57-3665-4d49-a980-45759140aadd"
      },
      "execution_count": 46,
      "outputs": [
        {
          "output_type": "stream",
          "name": "stdout",
          "text": [
            "41. Column-wise mean:\n",
            "[2.5 3.5 4.5]\n"
          ]
        }
      ]
    },
    {
      "cell_type": "markdown",
      "source": [
        "# 42. Find maximum value in each row of the given array:\n"
      ],
      "metadata": {
        "id": "jioWMFRzoZcm"
      }
    },
    {
      "cell_type": "code",
      "source": [
        "arr = np.array([[1, 2, 3], [4, 5, 6]])\n",
        "row_max = np.max(arr, axis=1)\n",
        "print(\"42. Maximum value in each row:\")\n",
        "print(row_max)"
      ],
      "metadata": {
        "colab": {
          "base_uri": "https://localhost:8080/"
        },
        "id": "swV47ePToX0k",
        "outputId": "fb29320a-12e9-484b-8546-a75b4ee6ae4b"
      },
      "execution_count": 47,
      "outputs": [
        {
          "output_type": "stream",
          "name": "stdout",
          "text": [
            "42. Maximum value in each row:\n",
            "[3 6]\n"
          ]
        }
      ]
    },
    {
      "cell_type": "markdown",
      "source": [
        "# 43. For the given array, find indices of maximum value in each column.\n"
      ],
      "metadata": {
        "id": "OIRmqiOKoerO"
      }
    },
    {
      "cell_type": "code",
      "source": [
        "arr = np.array([[1, 2, 3], [4, 5, 6]])\n",
        "col_max_indices = np.argmax(arr, axis=0)\n",
        "print(\"43. Indices of maximum value in each column:\")\n",
        "print(col_max_indices)"
      ],
      "metadata": {
        "colab": {
          "base_uri": "https://localhost:8080/"
        },
        "id": "oQb_7kqIobdR",
        "outputId": "4c0f9b5e-a794-48af-f93b-10acc928fb08"
      },
      "execution_count": 48,
      "outputs": [
        {
          "output_type": "stream",
          "name": "stdout",
          "text": [
            "43. Indices of maximum value in each column:\n",
            "[1 1 1]\n"
          ]
        }
      ]
    },
    {
      "cell_type": "markdown",
      "source": [
        "# 44. For the given array, apply custom function to calculate moving sum along rows.\n"
      ],
      "metadata": {
        "id": "SmQ0PJksoj5-"
      }
    },
    {
      "cell_type": "code",
      "source": [
        "arr = np.array([[1, 2, 3], [4, 5, 6]])\n",
        "def moving_sum(arr):\n",
        "    return np.cumsum(arr, axis=1)\n",
        "\n",
        "print(\"44. Moving sum along rows:\")\n",
        "print(moving_sum(arr))"
      ],
      "metadata": {
        "colab": {
          "base_uri": "https://localhost:8080/"
        },
        "id": "I4AAGJWNoidO",
        "outputId": "584ebe06-d8aa-48d9-8eaa-d8632e014055"
      },
      "execution_count": 49,
      "outputs": [
        {
          "output_type": "stream",
          "name": "stdout",
          "text": [
            "44. Moving sum along rows:\n",
            "[[ 1  3  6]\n",
            " [ 4  9 15]]\n"
          ]
        }
      ]
    },
    {
      "cell_type": "markdown",
      "source": [
        "# 45. In the given array, check if all elements in each column are even.\n"
      ],
      "metadata": {
        "id": "tqGeYHEzomsI"
      }
    },
    {
      "cell_type": "code",
      "source": [
        "arr = np.array([[2, 4, 6], [3, 5, 7]])\n",
        "col_all_even = np.all(arr % 2 == 0, axis=0)\n",
        "print(\"45. Check if all elements in each column are even:\")\n",
        "print(col_all_even)"
      ],
      "metadata": {
        "colab": {
          "base_uri": "https://localhost:8080/"
        },
        "id": "PUcpcZMXol7X",
        "outputId": "34bc836f-1cd2-4799-d1ad-4d51c9de7554"
      },
      "execution_count": 50,
      "outputs": [
        {
          "output_type": "stream",
          "name": "stdout",
          "text": [
            "45. Check if all elements in each column are even:\n",
            "[False False False]\n"
          ]
        }
      ]
    },
    {
      "cell_type": "markdown",
      "source": [
        "# 46. Given a NumPy array arr, reshape it into a matrix of dimensions `m` rows and `n` columns. Return the reshaped matrix.\n"
      ],
      "metadata": {
        "id": "peAJ10Ukq1xk"
      }
    },
    {
      "cell_type": "code",
      "source": [
        "def reshape_array(arr, m, n):\n",
        "    return arr.reshape(m, n)\n",
        "\n",
        "original_array = np.array([1, 2, 3, 4, 5, 6])\n",
        "print(\"46. Reshaped array:\")\n",
        "print(reshape_array(original_array, 2, 3))"
      ],
      "metadata": {
        "colab": {
          "base_uri": "https://localhost:8080/"
        },
        "id": "VdY5D5CKoplN",
        "outputId": "237919bc-72d0-4329-ee22-e300ac90f20b"
      },
      "execution_count": 51,
      "outputs": [
        {
          "output_type": "stream",
          "name": "stdout",
          "text": [
            "46. Reshaped array:\n",
            "[[1 2 3]\n",
            " [4 5 6]]\n"
          ]
        }
      ]
    },
    {
      "cell_type": "markdown",
      "source": [
        "# 47. Create a function that takes a matrix as input and returns the flattened array.\n"
      ],
      "metadata": {
        "id": "qcjhUZGmq4_P"
      }
    },
    {
      "cell_type": "code",
      "source": [
        "def flatten_matrix(matrix):\n",
        "    return matrix.flatten()\n",
        "\n",
        "input_matrix = np.array([[1, 2, 3], [4, 5, 6]])\n",
        "print(\"47. Flattened matrix:\")\n",
        "print(flatten_matrix(input_matrix))"
      ],
      "metadata": {
        "colab": {
          "base_uri": "https://localhost:8080/"
        },
        "id": "S1WsULXtq30m",
        "outputId": "d10c0cbc-c8f2-4b34-e170-ec1b4ebeae9d"
      },
      "execution_count": 52,
      "outputs": [
        {
          "output_type": "stream",
          "name": "stdout",
          "text": [
            "47. Flattened matrix:\n",
            "[1 2 3 4 5 6]\n"
          ]
        }
      ]
    },
    {
      "cell_type": "markdown",
      "source": [
        "# 48. Write a function that concatenates two given arrays along a specified axis.\n"
      ],
      "metadata": {
        "id": "gPEyECxPq98r"
      }
    },
    {
      "cell_type": "code",
      "source": [
        "def concatenate_arrays(array1, array2, axis=0):\n",
        "    return np.concatenate((array1, array2), axis=axis)\n",
        "\n",
        "array1 = np.array([[1, 2], [3, 4]])\n",
        "array2 = np.array([[5, 6], [7, 8]])\n",
        "print(\"48. Concatenated array along axis 0:\")\n",
        "print(concatenate_arrays(array1, array2, axis=0))"
      ],
      "metadata": {
        "colab": {
          "base_uri": "https://localhost:8080/"
        },
        "id": "lSy1Yyg4q8hH",
        "outputId": "11c75ac3-d9ad-405d-ce4d-09580b38965a"
      },
      "execution_count": 53,
      "outputs": [
        {
          "output_type": "stream",
          "name": "stdout",
          "text": [
            "48. Concatenated array along axis 0:\n",
            "[[1 2]\n",
            " [3 4]\n",
            " [5 6]\n",
            " [7 8]]\n"
          ]
        }
      ]
    },
    {
      "cell_type": "markdown",
      "source": [
        "# 49. Create a function that splits an array into multiple sub-arrays along a specified axis.\n"
      ],
      "metadata": {
        "id": "1DTCm2PLrBAM"
      }
    },
    {
      "cell_type": "code",
      "source": [
        "def split_array(array, indices_or_sections, axis=0):\n",
        "    return np.array_split(array, indices_or_sections, axis=axis)\n",
        "\n",
        "original_array = np.array([[1, 2, 3], [4, 5, 6], [7, 8, 9]])\n",
        "print(\"49. Split array:\")\n",
        "print(split_array(original_array, 3, axis=0))"
      ],
      "metadata": {
        "colab": {
          "base_uri": "https://localhost:8080/"
        },
        "id": "FrSIlX3-q_rt",
        "outputId": "9ec7d8c6-06ad-4f56-847d-a9a3404d7472"
      },
      "execution_count": 54,
      "outputs": [
        {
          "output_type": "stream",
          "name": "stdout",
          "text": [
            "49. Split array:\n",
            "[array([[1, 2, 3]]), array([[4, 5, 6]]), array([[7, 8, 9]])]\n"
          ]
        }
      ]
    },
    {
      "cell_type": "markdown",
      "source": [
        "# 50. Write a function that inserts and then deletes elements from a given array at specified indices.\n"
      ],
      "metadata": {
        "id": "eR6UGkidrD_I"
      }
    },
    {
      "cell_type": "code",
      "source": [
        "def insert_and_delete_elements(array, indices_to_insert, values_to_insert, indices_to_delete):\n",
        "    array = np.insert(array, indices_to_insert, values_to_insert)\n",
        "    array = np.delete(array, indices_to_delete)\n",
        "    return array\n",
        "\n",
        "original_array = np.array([1, 2, 3, 4, 5])\n",
        "indices_to_insert = [2, 4]\n",
        "values_to_insert = [10, 11]\n",
        "indices_to_delete = [1, 3]\n",
        "print(\"50. Array after insertion and deletion:\")\n",
        "print(insert_and_delete_elements(original_array, indices_to_insert, values_to_insert, indices_to_delete))"
      ],
      "metadata": {
        "colab": {
          "base_uri": "https://localhost:8080/"
        },
        "id": "qv2gWNWxrChM",
        "outputId": "f481fd71-8029-40e7-bd3e-fe1067c9b0c3"
      },
      "execution_count": 55,
      "outputs": [
        {
          "output_type": "stream",
          "name": "stdout",
          "text": [
            "50. Array after insertion and deletion:\n",
            "[ 1 10  4 11  5]\n"
          ]
        }
      ]
    },
    {
      "cell_type": "markdown",
      "source": [
        "# 51. Create a NumPy array `arr1` with random integers and another array `arr2` with integers from 1 to 10. Perform element-wise addition between `arr1` and `arr2`.\n"
      ],
      "metadata": {
        "id": "BYhGVdw2rIP5"
      }
    },
    {
      "cell_type": "code",
      "source": [
        "arr1 = np.random.randint(1, 10, size=5)\n",
        "arr2 = np.arange(1, 6)\n",
        "print(\"51. Element-wise addition of arr1 and arr2:\")\n",
        "print(arr1 + arr2)"
      ],
      "metadata": {
        "colab": {
          "base_uri": "https://localhost:8080/"
        },
        "id": "O3kAI1rOrHPr",
        "outputId": "7b8d6ef1-16f7-4bb8-df05-5250b72eb1ca"
      },
      "execution_count": 56,
      "outputs": [
        {
          "output_type": "stream",
          "name": "stdout",
          "text": [
            "51. Element-wise addition of arr1 and arr2:\n",
            "[ 5  5 11  7  6]\n"
          ]
        }
      ]
    },
    {
      "cell_type": "markdown",
      "source": [
        "# 52. Generate a NumPy array `arr1` with sequential integers from 10 to 1 and another array `arr2` with integers from 1 to 10. Subtract `arr2` from `arr1` element-wise.\n"
      ],
      "metadata": {
        "id": "G0xn7lx_rNGd"
      }
    },
    {
      "cell_type": "code",
      "source": [
        "arr1 = np.arange(10, 0, -1)\n",
        "arr2 = np.arange(1, 11)\n",
        "print(\"52. Element-wise subtraction of arr2 from arr1:\")\n",
        "print(arr1 - arr2)"
      ],
      "metadata": {
        "colab": {
          "base_uri": "https://localhost:8080/"
        },
        "id": "T2CZFKXyrLlY",
        "outputId": "083a264c-88c0-41be-a7d9-545769689920"
      },
      "execution_count": 57,
      "outputs": [
        {
          "output_type": "stream",
          "name": "stdout",
          "text": [
            "52. Element-wise subtraction of arr2 from arr1:\n",
            "[ 9  7  5  3  1 -1 -3 -5 -7 -9]\n"
          ]
        }
      ]
    },
    {
      "cell_type": "markdown",
      "source": [
        "# 53. Create a NumPy array `arr1` with random integers and another array `arr2` with integers from 1 to 5. Perform element-wise multiplication between `arr1` and `arr2`.\n"
      ],
      "metadata": {
        "id": "CoGlKdFhrQwP"
      }
    },
    {
      "cell_type": "code",
      "source": [
        "arr1 = np.random.randint(1, 10, size=5)\n",
        "arr2 = np.arange(1, 6)\n",
        "print(\"53. Element-wise multiplication of arr1 and arr2:\")\n",
        "print(arr1 * arr2)"
      ],
      "metadata": {
        "colab": {
          "base_uri": "https://localhost:8080/"
        },
        "id": "En4Vq7A5rO7u",
        "outputId": "b9511dc1-3a17-49d9-ba9a-93a6d9eaf02a"
      },
      "execution_count": 58,
      "outputs": [
        {
          "output_type": "stream",
          "name": "stdout",
          "text": [
            "53. Element-wise multiplication of arr1 and arr2:\n",
            "[ 1 10 18 24 35]\n"
          ]
        }
      ]
    },
    {
      "cell_type": "markdown",
      "source": [
        "# 54. Generate a NumPy array `arr1` with even integers from 2 to 10 and another array `arr2` with integers from 1 to 5. Perform element-wise division of `arr1` by `arr2`.\n"
      ],
      "metadata": {
        "id": "L0aJbpl7rT40"
      }
    },
    {
      "cell_type": "code",
      "source": [
        "arr1 = np.arange(2, 11, 2)\n",
        "arr2 = np.arange(1, 6)\n",
        "print(\"54. Element-wise division of arr1 by arr2:\")\n",
        "print(arr1 / arr2)"
      ],
      "metadata": {
        "colab": {
          "base_uri": "https://localhost:8080/"
        },
        "id": "Di6FewuCrSVt",
        "outputId": "93711745-af75-4fb0-9091-451678d297da"
      },
      "execution_count": 59,
      "outputs": [
        {
          "output_type": "stream",
          "name": "stdout",
          "text": [
            "54. Element-wise division of arr1 by arr2:\n",
            "[2. 2. 2. 2. 2.]\n"
          ]
        }
      ]
    },
    {
      "cell_type": "markdown",
      "source": [
        "# 55. Create a NumPy array `arr1` with integers from 1 to 5 and another array `arr2` with the same numbers reversed. Calculate the exponentiation of `arr1` raised to the power of `arr2` element-wise.\n"
      ],
      "metadata": {
        "id": "OEgD43GfrW1H"
      }
    },
    {
      "cell_type": "code",
      "source": [
        "arr1 = np.arange(1, 6)\n",
        "arr2 = arr1[::-1]\n",
        "print(\"55. Element-wise exponentiation of arr1 to the power of arr2:\")\n",
        "print(arr1 ** arr2)"
      ],
      "metadata": {
        "colab": {
          "base_uri": "https://localhost:8080/"
        },
        "id": "5WjXbga4rVdF",
        "outputId": "36156c63-5654-479e-9520-ed8915525dec"
      },
      "execution_count": 60,
      "outputs": [
        {
          "output_type": "stream",
          "name": "stdout",
          "text": [
            "55. Element-wise exponentiation of arr1 to the power of arr2:\n",
            "[ 1 16 27 16  5]\n"
          ]
        }
      ]
    },
    {
      "cell_type": "markdown",
      "source": [
        "# 56. Write a function that counts the occurrences of a specific substring within a NumPy array of strings.\n"
      ],
      "metadata": {
        "id": "WB8OG4arraBb"
      }
    },
    {
      "cell_type": "code",
      "source": [
        "def count_substring(arr, substring):\n",
        "    return np.array([s.count(substring) for s in arr])\n",
        "\n",
        "arr = np.array(['hello', 'world', 'hello', 'numpy', 'hello'])\n",
        "print(\"56. Occurrences of 'hello':\")\n",
        "print(count_substring(arr, 'hello'))"
      ],
      "metadata": {
        "colab": {
          "base_uri": "https://localhost:8080/"
        },
        "id": "cc0BrackrYpf",
        "outputId": "4356a4c9-2509-404a-fe55-8f9974ebcfb7"
      },
      "execution_count": 61,
      "outputs": [
        {
          "output_type": "stream",
          "name": "stdout",
          "text": [
            "56. Occurrences of 'hello':\n",
            "[1 0 1 0 1]\n"
          ]
        }
      ]
    },
    {
      "cell_type": "markdown",
      "source": [
        "# 57. Write a function that extracts uppercase characters from a NumPy array of strings.\n"
      ],
      "metadata": {
        "id": "9FUlM6tFrc-A"
      }
    },
    {
      "cell_type": "code",
      "source": [
        "def extract_uppercase(arr):\n",
        "    return np.array([''.join(filter(str.isupper, s)) for s in arr])\n",
        "\n",
        "arr = np.array(['Hello', 'World', 'OpenAI', 'GPT'])\n",
        "print(\"57. Extracted uppercase characters:\")\n",
        "print(extract_uppercase(arr))"
      ],
      "metadata": {
        "colab": {
          "base_uri": "https://localhost:8080/"
        },
        "id": "fUa8EIrlrbmi",
        "outputId": "1fdc9abc-85ec-4ef3-fd18-836f523ded72"
      },
      "execution_count": 62,
      "outputs": [
        {
          "output_type": "stream",
          "name": "stdout",
          "text": [
            "57. Extracted uppercase characters:\n",
            "['H' 'W' 'OAI' 'GPT']\n"
          ]
        }
      ]
    },
    {
      "cell_type": "markdown",
      "source": [
        "# 58. Write a function that replaces occurrences of a substring in a NumPy array of strings with a new string.\n"
      ],
      "metadata": {
        "id": "dmdwNOhMrjFd"
      }
    },
    {
      "cell_type": "code",
      "source": [
        "def replace_substring(arr, old_substring, new_substring):\n",
        "    return np.array([s.replace(old_substring, new_substring) for s in arr])\n",
        "\n",
        "arr = np.array(['apple', 'banana', 'grape', 'pineapple'])\n",
        "print(\"58. Array after replacing 'apple' with 'orange':\")\n",
        "print(replace_substring(arr, 'apple', 'orange'))"
      ],
      "metadata": {
        "colab": {
          "base_uri": "https://localhost:8080/"
        },
        "id": "dbZ6QadFrht3",
        "outputId": "6ad2b033-2b0b-40e2-d236-d54f4a01ffb2"
      },
      "execution_count": 63,
      "outputs": [
        {
          "output_type": "stream",
          "name": "stdout",
          "text": [
            "58. Array after replacing 'apple' with 'orange':\n",
            "['orange' 'banana' 'grape' 'pineorange']\n"
          ]
        }
      ]
    },
    {
      "cell_type": "markdown",
      "source": [
        "# 59. Write a function that concatenates strings in a NumPy array element-wise.\n"
      ],
      "metadata": {
        "id": "oRvFgBBNrmRk"
      }
    },
    {
      "cell_type": "code",
      "source": [
        "def concatenate_strings(arr1, arr2):\n",
        "    return np.array([a + b for a, b in zip(arr1, arr2)])\n",
        "\n",
        "arr1 = np.array(['Hello', 'World'])\n",
        "arr2 = np.array(['Open', 'AI'])\n",
        "print(\"59. Concatenated strings:\")\n",
        "print(concatenate_strings(arr1, arr2))"
      ],
      "metadata": {
        "colab": {
          "base_uri": "https://localhost:8080/"
        },
        "id": "d01uN-6erk1W",
        "outputId": "8b2ca8d9-c561-4166-bb78-92669a80faff"
      },
      "execution_count": 64,
      "outputs": [
        {
          "output_type": "stream",
          "name": "stdout",
          "text": [
            "59. Concatenated strings:\n",
            "['HelloOpen' 'WorldAI']\n"
          ]
        }
      ]
    },
    {
      "cell_type": "markdown",
      "source": [
        "# 60. Write a function that finds the length of the longest string in a NumPy array.\n"
      ],
      "metadata": {
        "id": "Nk7zm7pArp3K"
      }
    },
    {
      "cell_type": "code",
      "source": [
        "def length_of_longest_string(arr):\n",
        "    return max(len(s) for s in arr)\n",
        "\n",
        "arr = np.array(['apple', 'banana', 'grape', 'pineapple'])\n",
        "print(\"60. Length of the longest string:\")\n",
        "print(length_of_longest_string(arr))"
      ],
      "metadata": {
        "colab": {
          "base_uri": "https://localhost:8080/"
        },
        "id": "0uGjN9L-roKz",
        "outputId": "b705bdab-710d-4491-a101-b02dbbd89922"
      },
      "execution_count": 65,
      "outputs": [
        {
          "output_type": "stream",
          "name": "stdout",
          "text": [
            "60. Length of the longest string:\n",
            "9\n"
          ]
        }
      ]
    },
    {
      "cell_type": "markdown",
      "source": [
        "# 61. Create a dataset of 100 random integers between 1 and 1000. Compute the mean, median, variance, and standard deviation of the dataset using NumPy's functions.\n"
      ],
      "metadata": {
        "id": "faN2d6vurtU0"
      }
    },
    {
      "cell_type": "code",
      "source": [
        "data = np.random.randint(1, 1001, size=100)\n",
        "print(\"61. Statistics of the dataset:\")\n",
        "print(f\"Mean: {np.mean(data)}\")\n",
        "print(f\"Median: {np.median(data)}\")\n",
        "print(f\"Variance: {np.var(data)}\")\n",
        "print(f\"Standard Deviation: {np.std(data)}\")"
      ],
      "metadata": {
        "colab": {
          "base_uri": "https://localhost:8080/"
        },
        "id": "RYCfqHHprrts",
        "outputId": "348670d6-e9d8-400c-8529-1d952ef253ae"
      },
      "execution_count": 66,
      "outputs": [
        {
          "output_type": "stream",
          "name": "stdout",
          "text": [
            "61. Statistics of the dataset:\n",
            "Mean: 532.29\n",
            "Median: 558.5\n",
            "Variance: 91858.66589999999\n",
            "Standard Deviation: 303.0819458496332\n"
          ]
        }
      ]
    },
    {
      "cell_type": "markdown",
      "source": [
        "# 62. Generate an array of 50 random numbers between 1 and 100. Find the 25th and 75th percentiles of the dataset.\n"
      ],
      "metadata": {
        "id": "adNGWs6jrw-E"
      }
    },
    {
      "cell_type": "code",
      "source": [
        "data = np.random.randint(1, 101, size=50)\n",
        "print(\"62. 25th and 75th percentiles:\")\n",
        "print(f\"25th percentile: {np.percentile(data, 25)}\")\n",
        "print(f\"75th percentile: {np.percentile(data, 75)}\")"
      ],
      "metadata": {
        "colab": {
          "base_uri": "https://localhost:8080/"
        },
        "id": "tl4MkZoprvc8",
        "outputId": "cfa3eaf6-aae4-4225-fc43-4ac6e34ff176"
      },
      "execution_count": 67,
      "outputs": [
        {
          "output_type": "stream",
          "name": "stdout",
          "text": [
            "62. 25th and 75th percentiles:\n",
            "25th percentile: 20.5\n",
            "75th percentile: 68.0\n"
          ]
        }
      ]
    },
    {
      "cell_type": "markdown",
      "source": [
        "# 63. Create two arrays representing two sets of variables. Compute the correlation coefficient between these arrays using NumPy's `corrcoef` function.\n"
      ],
      "metadata": {
        "id": "uhfONOVSr0G6"
      }
    },
    {
      "cell_type": "code",
      "source": [
        "array1 = np.random.rand(10)\n",
        "array2 = np.random.rand(10)\n",
        "print(\"63. Correlation coefficient between two arrays:\")\n",
        "print(np.corrcoef(array1, array2)[0, 1])"
      ],
      "metadata": {
        "colab": {
          "base_uri": "https://localhost:8080/"
        },
        "id": "8yql8v35ry4M",
        "outputId": "a7bfe0b1-600f-461c-d5a2-18a750a1473c"
      },
      "execution_count": 68,
      "outputs": [
        {
          "output_type": "stream",
          "name": "stdout",
          "text": [
            "63. Correlation coefficient between two arrays:\n",
            "0.38171020383883103\n"
          ]
        }
      ]
    },
    {
      "cell_type": "markdown",
      "source": [
        "# 64. Create two matrices and perform matrix multiplication using NumPy's `dot` function.\n"
      ],
      "metadata": {
        "id": "TCImaFDHr4eR"
      }
    },
    {
      "cell_type": "code",
      "source": [
        "matrix1 = np.array([[1, 2], [3, 4]])\n",
        "matrix2 = np.array([[5, 6], [7, 8]])\n",
        "print(\"64. Matrix multiplication:\")\n",
        "print(np.dot(matrix1, matrix2))"
      ],
      "metadata": {
        "colab": {
          "base_uri": "https://localhost:8080/"
        },
        "id": "OBbRCXO7r19K",
        "outputId": "a055bdfa-1616-4749-b3f0-e6e2c8df5d95"
      },
      "execution_count": 69,
      "outputs": [
        {
          "output_type": "stream",
          "name": "stdout",
          "text": [
            "64. Matrix multiplication:\n",
            "[[19 22]\n",
            " [43 50]]\n"
          ]
        }
      ]
    },
    {
      "cell_type": "markdown",
      "source": [
        "# 65. Create an array of 50 integers between 10 and 1000. Calculate the 10th, 50th (median), and 90th percentiles along with the first and third quartiles.\n"
      ],
      "metadata": {
        "id": "6cGrSa_lr8Nq"
      }
    },
    {
      "cell_type": "code",
      "source": [
        "data = np.random.randint(10, 1001, size=50)\n",
        "print(\"65. Percentiles and quartiles:\")\n",
        "print(f\"10th percentile: {np.percentile(data, 10)}\")\n",
        "print(f\"50th percentile (median): {np.percentile(data, 50)}\")\n",
        "print(f\"90th percentile: {np.percentile(data, 90)}\")\n",
        "print(f\"First quartile: {np.percentile(data, 25)}\")\n",
        "print(f\"Third quartile: {np.percentile(data, 75)}\")"
      ],
      "metadata": {
        "colab": {
          "base_uri": "https://localhost:8080/"
        },
        "id": "ipIHotq-r6Uz",
        "outputId": "25e509b8-2f13-432f-c389-ad8cfd2c5060"
      },
      "execution_count": 70,
      "outputs": [
        {
          "output_type": "stream",
          "name": "stdout",
          "text": [
            "65. Percentiles and quartiles:\n",
            "10th percentile: 141.50000000000003\n",
            "50th percentile (median): 640.0\n",
            "90th percentile: 911.0\n",
            "First quartile: 309.5\n",
            "Third quartile: 781.0\n"
          ]
        }
      ]
    },
    {
      "cell_type": "markdown",
      "source": [
        "# 66. Create a NumPy array of integers and find the index of a specific element.\n"
      ],
      "metadata": {
        "id": "VaL1Nx1ar_tK"
      }
    },
    {
      "cell_type": "code",
      "source": [
        "def find_index(array, value):\n",
        "    return np.where(array == value)[0][0]\n",
        "\n",
        "array = np.array([10, 20, 30, 40, 50])\n",
        "print(\"66. Index of element 30:\")\n",
        "print(find_index(array, 30))"
      ],
      "metadata": {
        "colab": {
          "base_uri": "https://localhost:8080/"
        },
        "id": "I7xO3r6Jr-IR",
        "outputId": "cc26762e-ccfa-4b30-ce0d-0fa0f921d7e9"
      },
      "execution_count": 71,
      "outputs": [
        {
          "output_type": "stream",
          "name": "stdout",
          "text": [
            "66. Index of element 30:\n",
            "2\n"
          ]
        }
      ]
    },
    {
      "cell_type": "markdown",
      "source": [
        "# 67. Generate a random NumPy array and sort it in ascending order.\n"
      ],
      "metadata": {
        "id": "X1dp5giZsDKB"
      }
    },
    {
      "cell_type": "code",
      "source": [
        "array = np.random.randint(1, 100, size=10)\n",
        "print(\"67. Sorted array:\")\n",
        "print(np.sort(array))"
      ],
      "metadata": {
        "colab": {
          "base_uri": "https://localhost:8080/"
        },
        "id": "ztXeReg2sBtA",
        "outputId": "069a0284-844e-4c68-bd11-6c2782f9adc7"
      },
      "execution_count": 72,
      "outputs": [
        {
          "output_type": "stream",
          "name": "stdout",
          "text": [
            "67. Sorted array:\n",
            "[28 35 35 40 45 46 62 72 86 98]\n"
          ]
        }
      ]
    },
    {
      "cell_type": "markdown",
      "source": [
        "# 68. Filter elements >20 in the given NumPy array.\n"
      ],
      "metadata": {
        "id": "K4H0-3ZPsHVi"
      }
    },
    {
      "cell_type": "code",
      "source": [
        "arr = np.array([12, 25, 6, 42, 8, 30])\n",
        "print(\"68. Elements greater than 20:\")\n",
        "print(arr[arr > 20])"
      ],
      "metadata": {
        "colab": {
          "base_uri": "https://localhost:8080/"
        },
        "id": "zD3ft71ksF1_",
        "outputId": "7c56ae80-0580-4dcb-c5fd-4e3ae08c5687"
      },
      "execution_count": 73,
      "outputs": [
        {
          "output_type": "stream",
          "name": "stdout",
          "text": [
            "68. Elements greater than 20:\n",
            "[25 42 30]\n"
          ]
        }
      ]
    },
    {
      "cell_type": "markdown",
      "source": [
        "# 69. Filter elements which are divisible by 3 from a given NumPy array.\n"
      ],
      "metadata": {
        "id": "ZMQ8y_EBsKHa"
      }
    },
    {
      "cell_type": "code",
      "source": [
        "arr = np.array([1, 5, 8, 12, 15])\n",
        "print(\"69. Elements divisible by 3:\")\n",
        "print(arr[arr % 3 == 0])"
      ],
      "metadata": {
        "colab": {
          "base_uri": "https://localhost:8080/"
        },
        "id": "BaeEjsDqsI4X",
        "outputId": "d80ac01e-c57d-4a51-f8c2-6d27920bae1b"
      },
      "execution_count": 74,
      "outputs": [
        {
          "output_type": "stream",
          "name": "stdout",
          "text": [
            "69. Elements divisible by 3:\n",
            "[12 15]\n"
          ]
        }
      ]
    },
    {
      "cell_type": "markdown",
      "source": [
        "# 70. Filter elements which are ≥ 20 and ≤ 40 from a given NumPy array.\n"
      ],
      "metadata": {
        "id": "8I61ro6tsM9R"
      }
    },
    {
      "cell_type": "code",
      "source": [
        "arr = np.array([10, 20, 30, 40, 50])\n",
        "print(\"70. Elements between 20 and 40 (inclusive):\")\n",
        "print(arr[(arr >= 20) & (arr <= 40)])"
      ],
      "metadata": {
        "colab": {
          "base_uri": "https://localhost:8080/"
        },
        "id": "l5G5W2ffsLmm",
        "outputId": "1773e8c3-2e5c-467b-e5f4-c763304bf24a"
      },
      "execution_count": 75,
      "outputs": [
        {
          "output_type": "stream",
          "name": "stdout",
          "text": [
            "70. Elements between 20 and 40 (inclusive):\n",
            "[20 30 40]\n"
          ]
        }
      ]
    },
    {
      "cell_type": "markdown",
      "source": [
        "# 71. For the given NumPy array, check its byte order using the `dtype` attribute byteorder.\n"
      ],
      "metadata": {
        "id": "vh-5jCM9sP53"
      }
    },
    {
      "cell_type": "code",
      "source": [
        "arr = np.array([1, 2, 3])\n",
        "print(\"71. Byte order of the array:\")\n",
        "print(arr.dtype.byteorder)"
      ],
      "metadata": {
        "colab": {
          "base_uri": "https://localhost:8080/"
        },
        "id": "Fc31ImKSsOgz",
        "outputId": "25e2a53a-e40b-4774-edeb-5e0c47f50bad"
      },
      "execution_count": 76,
      "outputs": [
        {
          "output_type": "stream",
          "name": "stdout",
          "text": [
            "71. Byte order of the array:\n",
            "=\n"
          ]
        }
      ]
    },
    {
      "cell_type": "markdown",
      "source": [
        "# 72. For the given NumPy array, perform byte swapping in place using `byteswap()`.\n"
      ],
      "metadata": {
        "id": "IEkJAIz-sS_F"
      }
    },
    {
      "cell_type": "code",
      "source": [
        "arr = np.array([1, 2, 3], dtype=np.int32)\n",
        "arr.byteswap(inplace=True)\n",
        "print(\"72. Array after byte swapping in place:\")\n",
        "print(arr)"
      ],
      "metadata": {
        "colab": {
          "base_uri": "https://localhost:8080/"
        },
        "id": "cJqT7WtBsRlB",
        "outputId": "912fdda0-7988-4ce9-b8aa-0e508fefd344"
      },
      "execution_count": 77,
      "outputs": [
        {
          "output_type": "stream",
          "name": "stdout",
          "text": [
            "72. Array after byte swapping in place:\n",
            "[16777216 33554432 50331648]\n"
          ]
        }
      ]
    },
    {
      "cell_type": "markdown",
      "source": [
        "# 73. For the given NumPy array, swap its byte order without modifying the original array using `newbyteorder()`.\n"
      ],
      "metadata": {
        "id": "4cito2t0sWw-"
      }
    },
    {
      "cell_type": "code",
      "source": [
        "arr = np.array([1, 2, 3], dtype=np.int32)\n",
        "arr_swapped = arr.newbyteorder()\n",
        "print(\"73. Array with swapped byte order:\")\n",
        "print(arr_swapped)"
      ],
      "metadata": {
        "colab": {
          "base_uri": "https://localhost:8080/"
        },
        "id": "h0PwWB-DsUoq",
        "outputId": "2d930661-bce5-4d93-c8c7-c703e2d62ff8"
      },
      "execution_count": 78,
      "outputs": [
        {
          "output_type": "stream",
          "name": "stdout",
          "text": [
            "73. Array with swapped byte order:\n",
            "[16777216 33554432 50331648]\n"
          ]
        }
      ]
    },
    {
      "cell_type": "markdown",
      "source": [
        "# 74. For the given NumPy array and swap its byte order conditionally based on system endianness using `newbyteorder()`.\n"
      ],
      "metadata": {
        "id": "VHcbRvZRsZ00"
      }
    },
    {
      "cell_type": "code",
      "source": [
        "arr = np.array([1, 2, 3], dtype=np.int32)\n",
        "if arr.dtype.byteorder == '=':  # system endianness is native\n",
        "    arr_swapped = arr.newbyteorder('>')\n",
        "else:\n",
        "    arr_swapped = arr.newbyteorder('<')\n",
        "print(\"74. Conditionally swapped byte order array:\")\n",
        "print(arr_swapped)"
      ],
      "metadata": {
        "colab": {
          "base_uri": "https://localhost:8080/"
        },
        "id": "I3Y5mVFlsYPr",
        "outputId": "f8c8dcdf-f0aa-48c6-b1ae-66a7ddf199cd"
      },
      "execution_count": 79,
      "outputs": [
        {
          "output_type": "stream",
          "name": "stdout",
          "text": [
            "74. Conditionally swapped byte order array:\n",
            "[16777216 33554432 50331648]\n"
          ]
        }
      ]
    },
    {
      "cell_type": "markdown",
      "source": [
        "# 75. For the given NumPy array, check if byte swapping is necessary for the current system using `dtype` attribute `byteorder`.\n"
      ],
      "metadata": {
        "id": "yhcorRRBscth"
      }
    },
    {
      "cell_type": "code",
      "source": [
        "arr = np.array([1, 2, 3], dtype=np.int32)\n",
        "print(\"75. Byte swapping necessity:\")\n",
        "print(arr.dtype.byteorder != '=')"
      ],
      "metadata": {
        "colab": {
          "base_uri": "https://localhost:8080/"
        },
        "id": "oDRHelyZsbY2",
        "outputId": "13d77e08-bd13-413d-abf4-ff456067b37d"
      },
      "execution_count": 80,
      "outputs": [
        {
          "output_type": "stream",
          "name": "stdout",
          "text": [
            "75. Byte swapping necessity:\n",
            "False\n"
          ]
        }
      ]
    },
    {
      "cell_type": "markdown",
      "source": [
        "# 76. Create a NumPy array `arr1` with values from 1 to 10. Create a copy of `arr1` named `copy_arr` and modify an element in `copy_arr`. Check if modifying `copy_arr` affects `arr1`.\n"
      ],
      "metadata": {
        "id": "k7rrwVtssfxB"
      }
    },
    {
      "cell_type": "code",
      "source": [
        "arr1 = np.arange(1, 11)\n",
        "copy_arr = arr1.copy()\n",
        "copy_arr[0] = 100\n",
        "print(\"76. Original array after modifying copy:\")\n",
        "print(arr1)\n",
        "print(\"76. Modified copy array:\")\n",
        "print(copy_arr)"
      ],
      "metadata": {
        "colab": {
          "base_uri": "https://localhost:8080/"
        },
        "id": "1iBv_A8ZseZR",
        "outputId": "35a6fca8-be2d-4990-b0b7-f3a1cbdcaff5"
      },
      "execution_count": 81,
      "outputs": [
        {
          "output_type": "stream",
          "name": "stdout",
          "text": [
            "76. Original array after modifying copy:\n",
            "[ 1  2  3  4  5  6  7  8  9 10]\n",
            "76. Modified copy array:\n",
            "[100   2   3   4   5   6   7   8   9  10]\n"
          ]
        }
      ]
    },
    {
      "cell_type": "markdown",
      "source": [
        "# 77. Create a 2D NumPy array `matrix` of shape (3, 3) with random integers. Extract a slice `view_slice` from the matrix. Modify an element in `view_slice` and observe if it changes the original `matrix`.\n"
      ],
      "metadata": {
        "id": "hIzL6-OWsi0t"
      }
    },
    {
      "cell_type": "code",
      "source": [
        "matrix = np.random.randint(1, 10, size=(3, 3))\n",
        "view_slice = matrix[:2, :2]\n",
        "view_slice[0, 0] = 100\n",
        "print(\"77. Original matrix after modifying view:\")\n",
        "print(matrix)"
      ],
      "metadata": {
        "colab": {
          "base_uri": "https://localhost:8080/"
        },
        "id": "vtGqCkUKshW2",
        "outputId": "23f99b8b-7fe5-447d-ff35-817950f4a7b6"
      },
      "execution_count": 82,
      "outputs": [
        {
          "output_type": "stream",
          "name": "stdout",
          "text": [
            "77. Original matrix after modifying view:\n",
            "[[100   2   6]\n",
            " [  9   5   1]\n",
            " [  3   6   6]]\n"
          ]
        }
      ]
    },
    {
      "cell_type": "markdown",
      "source": [
        "# 78. Create a NumPy array `array_a` of shape (4, 3) with sequential integers from 1 to 12. Extract a slice `view_b` from `array_a` and broadcast the addition of 5 to view_b. Check if it alters the original `array_a`.\n"
      ],
      "metadata": {
        "id": "i2ei54qnslzw"
      }
    },
    {
      "cell_type": "code",
      "source": [
        "array_a = np.arange(1, 13).reshape(4, 3)\n",
        "view_b = array_a[:2, :2]\n",
        "view_b += 5\n",
        "print(\"78. Original array_a after broadcasting to view_b:\")\n",
        "print(array_a)"
      ],
      "metadata": {
        "colab": {
          "base_uri": "https://localhost:8080/"
        },
        "id": "XODBYncJskWf",
        "outputId": "756c511a-b0a2-46b3-c3a2-78be109d4a32"
      },
      "execution_count": 83,
      "outputs": [
        {
          "output_type": "stream",
          "name": "stdout",
          "text": [
            "78. Original array_a after broadcasting to view_b:\n",
            "[[ 6  7  3]\n",
            " [ 9 10  6]\n",
            " [ 7  8  9]\n",
            " [10 11 12]]\n"
          ]
        }
      ]
    },
    {
      "cell_type": "markdown",
      "source": [
        "# 79. Create a NumPy array `orig_array` of shape (2, 4) with values from 1 to 8. Create a reshaped view `reshaped_view` of shape (4, 2) from orig_array. Modify an element in `reshaped_view` and check if it reflects changes in the original `orig_array`.\n"
      ],
      "metadata": {
        "id": "30dZl22Esojo"
      }
    },
    {
      "cell_type": "code",
      "source": [
        "orig_array = np.arange(1, 9).reshape(2, 4)\n",
        "reshaped_view = orig_array.reshape(4, 2)\n",
        "reshaped_view[0, 0] = 100\n",
        "print(\"79. Original array after modifying reshaped view:\")\n",
        "print(orig_array)"
      ],
      "metadata": {
        "colab": {
          "base_uri": "https://localhost:8080/"
        },
        "id": "wkEr6q5SsnUs",
        "outputId": "c552d63b-7484-41d9-afa4-584e21744325"
      },
      "execution_count": 84,
      "outputs": [
        {
          "output_type": "stream",
          "name": "stdout",
          "text": [
            "79. Original array after modifying reshaped view:\n",
            "[[100   2   3   4]\n",
            " [  5   6   7   8]]\n"
          ]
        }
      ]
    },
    {
      "cell_type": "markdown",
      "source": [
        "# 80. Create a NumPy array `data` of shape (3, 4) with random integers. Extract a copy `data_copy` of elements greater than 5. Modify an element in `data_copy` and verify if it affects the original `data`.\n"
      ],
      "metadata": {
        "id": "NUvEbY0Csrfa"
      }
    },
    {
      "cell_type": "code",
      "source": [
        "data = np.random.randint(1, 10, size=(3, 4))\n",
        "data_copy = data[data > 5].copy()\n",
        "data_copy[0] = 100\n",
        "print(\"80. Original data array after modifying copy:\")\n",
        "print(data)"
      ],
      "metadata": {
        "colab": {
          "base_uri": "https://localhost:8080/"
        },
        "id": "ffwE2VSqsqFI",
        "outputId": "357881ec-bf55-406d-8f91-eef0b3365971"
      },
      "execution_count": 85,
      "outputs": [
        {
          "output_type": "stream",
          "name": "stdout",
          "text": [
            "80. Original data array after modifying copy:\n",
            "[[1 9 2 2]\n",
            " [1 4 9 9]\n",
            " [5 5 1 4]]\n"
          ]
        }
      ]
    },
    {
      "cell_type": "markdown",
      "source": [
        "# 81. Create two matrices A and B of identical shape containing integers and perform addition and subtraction operations between them.\n"
      ],
      "metadata": {
        "id": "Y6cjiZkhsvxZ"
      }
    },
    {
      "cell_type": "code",
      "source": [
        "A = np.array([[1, 2], [3, 4]])\n",
        "B = np.array([[5, 6], [7, 8]])\n",
        "print(\"81. Matrix addition:\")\n",
        "print(A + B)\n",
        "print(\"81. Matrix subtraction:\")\n",
        "print(A - B)"
      ],
      "metadata": {
        "colab": {
          "base_uri": "https://localhost:8080/"
        },
        "id": "nID5_PKTsuWz",
        "outputId": "d4db396d-478e-45e1-da9f-45f60717a7d1"
      },
      "execution_count": 86,
      "outputs": [
        {
          "output_type": "stream",
          "name": "stdout",
          "text": [
            "81. Matrix addition:\n",
            "[[ 6  8]\n",
            " [10 12]]\n",
            "81. Matrix subtraction:\n",
            "[[-4 -4]\n",
            " [-4 -4]]\n"
          ]
        }
      ]
    },
    {
      "cell_type": "markdown",
      "source": [
        "# 82. Generate two matrices `C` (3x2) and `D` (2x4) and perform matrix multiplication.\n"
      ],
      "metadata": {
        "id": "Hk646eemszb8"
      }
    },
    {
      "cell_type": "code",
      "source": [
        "C = np.random.randint(1, 10, size=(3, 2))\n",
        "D = np.random.randint(1, 10, size=(2, 4))\n",
        "print(\"82. Matrix multiplication:\")\n",
        "print(np.dot(C, D))"
      ],
      "metadata": {
        "colab": {
          "base_uri": "https://localhost:8080/"
        },
        "id": "eq5NKq84sx35",
        "outputId": "35ad26a2-9045-424f-be96-381a2d8bc697"
      },
      "execution_count": 87,
      "outputs": [
        {
          "output_type": "stream",
          "name": "stdout",
          "text": [
            "82. Matrix multiplication:\n",
            "[[40 64 36 72]\n",
            " [18 27 15 30]\n",
            " [22 28 15 30]]\n"
          ]
        }
      ]
    },
    {
      "cell_type": "markdown",
      "source": [
        "# 83. Create a matrix `E` and find its transpose.\n"
      ],
      "metadata": {
        "id": "__Ztx81hs2T8"
      }
    },
    {
      "cell_type": "code",
      "source": [
        "E = np.array([[1, 2, 3], [4, 5, 6]])\n",
        "print(\"83. Transpose of matrix E:\")\n",
        "print(E.T)"
      ],
      "metadata": {
        "colab": {
          "base_uri": "https://localhost:8080/"
        },
        "id": "5yjxo44ls1AR",
        "outputId": "96fb9d55-f032-4c6c-c42a-c7d07d052543"
      },
      "execution_count": 88,
      "outputs": [
        {
          "output_type": "stream",
          "name": "stdout",
          "text": [
            "83. Transpose of matrix E:\n",
            "[[1 4]\n",
            " [2 5]\n",
            " [3 6]]\n"
          ]
        }
      ]
    },
    {
      "cell_type": "markdown",
      "source": [
        "# 84. Generate a square matrix `F` and compute its determinant.\n"
      ],
      "metadata": {
        "id": "4VnMqisjs5XG"
      }
    },
    {
      "cell_type": "code",
      "source": [
        "F = np.array([[1, 2], [3, 4]])\n",
        "print(\"84. Determinant of matrix F:\")\n",
        "print(np.linalg.det(F))"
      ],
      "metadata": {
        "colab": {
          "base_uri": "https://localhost:8080/"
        },
        "id": "xpUf2f4ps390",
        "outputId": "91e809a6-2047-4bd4-a8f1-75dbe8e6ec17"
      },
      "execution_count": 89,
      "outputs": [
        {
          "output_type": "stream",
          "name": "stdout",
          "text": [
            "84. Determinant of matrix F:\n",
            "-2.0000000000000004\n"
          ]
        }
      ]
    },
    {
      "cell_type": "markdown",
      "source": [
        "# 85. Create a square matrix `G` and find its inverse.\n"
      ],
      "metadata": {
        "id": "UUZxmb-Ms8LJ"
      }
    },
    {
      "cell_type": "code",
      "source": [
        "G = np.array([[1, 2], [3, 4]])\n",
        "print(\"85. Inverse of matrix G:\")\n",
        "print(np.linalg.inv(G))"
      ],
      "metadata": {
        "colab": {
          "base_uri": "https://localhost:8080/"
        },
        "id": "SCY0N6bZs6xA",
        "outputId": "bd01c2c7-d43b-406a-8c0f-4c9b941d6d4d"
      },
      "execution_count": 90,
      "outputs": [
        {
          "output_type": "stream",
          "name": "stdout",
          "text": [
            "85. Inverse of matrix G:\n",
            "[[-2.   1. ]\n",
            " [ 1.5 -0.5]]\n"
          ]
        }
      ]
    },
    {
      "cell_type": "code",
      "source": [],
      "metadata": {
        "id": "1vTGWDMAs-DI"
      },
      "execution_count": null,
      "outputs": []
    }
  ]
}